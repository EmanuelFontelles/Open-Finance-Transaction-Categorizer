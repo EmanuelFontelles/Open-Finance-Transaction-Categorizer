{
 "cells": [
  {
   "cell_type": "code",
   "execution_count": 20,
   "id": "8da982f7-7774-4177-9254-2ab3d2eb6a05",
   "metadata": {},
   "outputs": [],
   "source": [
    "import openai\n",
    "import json\n",
    "from dotenv import load_dotenv\n",
    "import os\n",
    "import re\n",
    "import pandas as pd"
   ]
  },
  {
   "cell_type": "code",
   "execution_count": 2,
   "id": "91752c2a-1f3e-40a5-bf3c-b04dd14cf846",
   "metadata": {},
   "outputs": [],
   "source": [
    "# Carregue a chave de API do arquivo .env\n",
    "load_dotenv()\n",
    "openai.api_key = os.getenv('OPENAI_API_KEY')"
   ]
  },
  {
   "cell_type": "code",
   "execution_count": 3,
   "id": "05001eb8-3094-4126-aef7-02eb4ed94fc8",
   "metadata": {},
   "outputs": [],
   "source": [
    "# Carregue as transações do JSON\n",
    "data = \"\"\"\n",
    "{\n",
    "  \"transactions\": [\n",
    "    {\n",
    "      \"transaction_id\": \"3CWE4927CF15355\",\n",
    "      \"description\": \"APPL3STORE\",\n",
    "      \"type\": \"OUTFLOW\",\n",
    "      \"amount\": 650.89,\n",
    "      \"currency\": \"BRL\",\n",
    "      \"institution\": \"Erebor Retail Brasil\",\n",
    "      \"merchant\": {\n",
    "        \"merchant_name\": \"Apple, Inc\"\n",
    "      }\n",
    "    },\n",
    "    {\n",
    "      \"transaction_id\": \"3CWE4927CF15996\",\n",
    "      \"description\": \"OXXO SP\",\n",
    "      \"type\": \"OUTFLOW\",\n",
    "      \"amount\": 999.9,\n",
    "      \"currency\": \"BRL\",\n",
    "      \"institution\": \"BCO DO BRASIL\",\n",
    "      \"merchant\": {\n",
    "        \"merchant_name\": \"Merchants R Us Global\"\n",
    "      }\n",
    "    }\n",
    "  ]\n",
    "}\n",
    "\"\"\"\n",
    "transactions = json.loads(data)[\"transactions\"]"
   ]
  },
  {
   "cell_type": "code",
   "execution_count": 25,
   "id": "0117e17a-a427-4d8e-8236-4017b37924e7",
   "metadata": {},
   "outputs": [],
   "source": [
    "# Crie uma função para categorizar uma transação\n",
    "def categorize_transaction(transaction):\n",
    "    # Use a API ChatGPT para gerar uma categoria e subcategoria com base na descrição da transação\n",
    "    response = openai.ChatCompletion.create(\n",
    "      model=\"gpt-3.5-turbo\",\n",
    "      messages=[\n",
    "            {\"role\": \"system\", \"content\": \"You are a helpful assistant with a lot of domain in Brazilian Open Finance.\"},\n",
    "            {\"role\": \"user\", \"content\": f\"I have a transaction with the following details: Description: {transaction['description']}, Type: {transaction['type']}, Amount: {transaction['amount']}, Currency: {transaction['currency']}, Institution: {transaction['institution']}, Merchant: {transaction['merchant']['merchant_name']}. Can you help me categorize this transaction into category and subcategory? Put the category and subcategory inside '<>' to be easy to fetch\"},\n",
    "        ]\n",
    "    )\n",
    "    # A resposta do modelo será a última mensagem do usuário\n",
    "    category = response['choices'][0]['message']['content']\n",
    "    # Use regex para extrair a categoria e subcategoria\n",
    "    matches = re.findall(r'<(.*?)>', category)\n",
    "    if len(matches) == 2:\n",
    "        return {\"Category\": matches[0], \"Subcategory\": matches[1], \"Transaction Data\": transaction, \"ChatGPT Response\": response}\n",
    "    else:\n",
    "        return {\"Category\": None, \"Subcategory\": None, \"Transaction Data\": transaction, \"ChatGPT Response\": response}"
   ]
  },
  {
   "cell_type": "code",
   "execution_count": 26,
   "id": "a6526d97-5a87-42c5-abeb-6d03a3130dbf",
   "metadata": {},
   "outputs": [],
   "source": [
    "# Categorize cada transação e armazene os resultados em um DataFrame\n",
    "results = []\n",
    "for transaction in transactions:\n",
    "    categories = categorize_transaction(transaction)\n",
    "    results.append({\n",
    "        \"Transaction ID\": transaction['transaction_id'],\n",
    "        \"Category\": categories[\"Category\"],\n",
    "        \"Subcategory\": categories[\"Subcategory\"],\n",
    "        \"Transaction Data\": categories[\"Transaction Data\"],\n",
    "        \"ChatGPT Response\": categories[\"ChatGPT Response\"]\n",
    "    })"
   ]
  },
  {
   "cell_type": "code",
   "execution_count": 27,
   "id": "5715558e-6cdb-45f6-8e7c-99940678a2af",
   "metadata": {},
   "outputs": [],
   "source": [
    "df = pd.DataFrame(results)"
   ]
  },
  {
   "cell_type": "code",
   "execution_count": 29,
   "id": "d4062c5c-2661-43fd-bac7-6a2a8ef04cd5",
   "metadata": {},
   "outputs": [],
   "source": [
    "df.to_csv('mastercard_chatgpt.csv', header=True, index=None)"
   ]
  },
  {
   "cell_type": "code",
   "execution_count": 17,
   "id": "c9f2d674-666b-4409-afed-d21ac9f8c18d",
   "metadata": {},
   "outputs": [
    {
     "data": {
      "text/plain": [
       "\"Based on the information provided, here's the categorization for the transaction:\\n\\nCategory: <Retail>\\nSubcategory: <Technology>\\n\\nSo the transaction can be categorized as <Retail><Technology>.\""
      ]
     },
     "execution_count": 17,
     "metadata": {},
     "output_type": "execute_result"
    }
   ],
   "source": [
    "df['Category'][0]"
   ]
  },
  {
   "cell_type": "code",
   "execution_count": null,
   "id": "bc8bd956-b4bb-4eee-8829-a59f7d9435c4",
   "metadata": {},
   "outputs": [],
   "source": []
  }
 ],
 "metadata": {
  "kernelspec": {
   "display_name": "Python 3 (ipykernel)",
   "language": "python",
   "name": "python3"
  },
  "language_info": {
   "codemirror_mode": {
    "name": "ipython",
    "version": 3
   },
   "file_extension": ".py",
   "mimetype": "text/x-python",
   "name": "python",
   "nbconvert_exporter": "python",
   "pygments_lexer": "ipython3",
   "version": "3.10.11"
  }
 },
 "nbformat": 4,
 "nbformat_minor": 5
}
